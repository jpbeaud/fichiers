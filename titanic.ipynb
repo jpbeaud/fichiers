{
  "nbformat": 4,
  "nbformat_minor": 0,
  "metadata": {
    "colab": {
      "provenance": [],
      "authorship_tag": "ABX9TyNklwcRw7elONvl9Ij6zRB+",
      "include_colab_link": true
    },
    "kernelspec": {
      "name": "python3",
      "display_name": "Python 3"
    },
    "language_info": {
      "name": "python"
    }
  },
  "cells": [
    {
      "cell_type": "markdown",
      "metadata": {
        "id": "view-in-github",
        "colab_type": "text"
      },
      "source": [
        "<a href=\"https://colab.research.google.com/github/jpbeaud/fichiers/blob/main/titanic.ipynb\" target=\"_parent\"><img src=\"https://colab.research.google.com/assets/colab-badge.svg\" alt=\"Open In Colab\"/></a>"
      ]
    },
    {
      "cell_type": "code",
      "execution_count": 7,
      "metadata": {
        "id": "HDPMylcdk2ZE",
        "outputId": "2fe50f1e-104b-4f9f-8546-eaf75e4cffb6",
        "colab": {
          "base_uri": "https://localhost:8080/"
        }
      },
      "outputs": [
        {
          "output_type": "stream",
          "name": "stdout",
          "text": [
            "Colonnes= Index(['Survived', 'Pclass', 'Name', 'Sex', 'Age', 'Siblings/Spouses Aboard',\n",
            "       'Parents/Children Aboard', 'Fare'],\n",
            "      dtype='object')\n",
            "Précision du modèle: 0.75\n",
            "Le passager fictif a péri\n"
          ]
        },
        {
          "output_type": "stream",
          "name": "stderr",
          "text": [
            "<ipython-input-7-ad53348a1412>:16: FutureWarning: A value is trying to be set on a copy of a DataFrame or Series through chained assignment using an inplace method.\n",
            "The behavior will change in pandas 3.0. This inplace method will never work because the intermediate object on which we are setting values always behaves as a copy.\n",
            "\n",
            "For example, when doing 'df[col].method(value, inplace=True)', try using 'df.method({col: value}, inplace=True)' or df[col] = df[col].method(value) instead, to perform the operation inplace on the original object.\n",
            "\n",
            "\n",
            "  data['Age'].fillna(data['Age'].mean(), inplace=True)\n"
          ]
        }
      ],
      "source": [
        "\n",
        "import pandas as pd\n",
        "from sklearn.model_selection import train_test_split\n",
        "from sklearn.linear_model import LogisticRegression\n",
        "from sklearn.metrics import accuracy_score\n",
        "\n",
        "# Charger les données du Titanic depuis un fichier CSV\n",
        "url = \"https://web.stanford.edu/class/archive/cs/cs109/cs109.1166/stuff/titanic.csv\"\n",
        "data = pd.read_csv(url)\n",
        "print(\"Colonnes=\", data.columns)\n",
        "# Sélectionner les caractéristiques et la cible\n",
        "features = ['Pclass', 'Sex', 'Age', 'Siblings/Spouses Aboard', 'Parents/Children Aboard', 'Fare']\n",
        "target = 'Survived'\n",
        "\n",
        "# Prétraiter les données\n",
        "data['Sex'] = data['Sex'].map({'male': 0, 'female': 1})\n",
        "data['Age'].fillna(data['Age'].mean(), inplace=True)\n",
        "\n",
        "# Diviser les données en ensembles d'entraînement et de test\n",
        "X_train, X_test, y_train, y_test = train_test_split(data[features], data[target], test_size=0.2, random_state=42)\n",
        "\n",
        "# Créer et entraîner le modèle de régression logistique\n",
        "model = LogisticRegression(max_iter=200)\n",
        "model.fit(X_train, y_train)\n",
        "\n",
        "# Prédire les résultats sur l'ensemble de test\n",
        "y_pred = model.predict(X_test)\n",
        "\n",
        "# Calculer la précision du modèle\n",
        "accuracy = accuracy_score(y_test, y_pred)\n",
        "print(f\"Précision du modèle: {accuracy:.2f}\")\n",
        "\n",
        "# Exemple de prédiction pour un passager fictif\n",
        "passager_fictif = pd.DataFrame({\n",
        "    'Pclass': [3],\n",
        "    'Sex': [0],\n",
        "    'Age': [25],\n",
        "    'Siblings/Spouses Aboard': [0],\n",
        "    'Parents/Children Aboard': [0],\n",
        "    'Fare': [7.25]\n",
        "})\n",
        "\n",
        "prediction = model.predict(passager_fictif)\n",
        "print(f\"Le passager fictif a {'survécu' if prediction[0] == 1 else 'péri'}\")\n"
      ]
    }
  ]
}